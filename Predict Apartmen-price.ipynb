{
 "cells": [
  {
   "cell_type": "markdown",
   "id": "ae4915db-8035-4c92-b3c7-64a9053573d7",
   "metadata": {},
   "source": [
    "<font size=\"+3\"><strong>Project: Predicting Apartment Prices in Mexico City 🇲🇽</strong></font>"
   ]
  },
  {
   "cell_type": "code",
   "execution_count": 16,
   "id": "0cd1db04-5733-4a88-8216-210aa4b19c2d",
   "metadata": {
    "deletable": false
   },
   "outputs": [],
   "source": [
    "# Import libraries here\n",
    "from glob import glob\n",
    "\n",
    "import pandas as pd\n",
    "import matplotlib.pyplot as plt\n",
    "import seaborn as sns\n",
    "from category_encoders import OneHotEncoder\n",
    "from IPython.display import VimeoVideo\n",
    "from ipywidgets import Dropdown, FloatSlider, IntSlider, interact\n",
    "from sklearn.impute import SimpleImputer\n",
    "from sklearn.linear_model import LinearRegression, Ridge  # noqa F401\n",
    "from sklearn.metrics import mean_absolute_error\n",
    "from sklearn.pipeline import make_pipeline\n",
    "from sklearn.utils.validation import check_is_fitted\n",
    "import plotly.express as px\n",
    "import warnings\n",
    "\n",
    "warnings.simplefilter(action=\"ignore\", category=FutureWarning)"
   ]
  },
  {
   "cell_type": "markdown",
   "id": "79e44a81-1eef-4bc6-8151-1a86d5844fb4",
   "metadata": {},
   "source": [
    "# Prepare Data"
   ]
  },
  {
   "cell_type": "markdown",
   "id": "99c6bc6c-50d9-4e5c-9289-a6ef21d43bfd",
   "metadata": {
    "deletable": false,
    "editable": false
   },
   "source": [
    "## Import"
   ]
  },
  {
   "cell_type": "markdown",
   "id": "3b3dccdb-08cc-4e5b-bd8a-509114410864",
   "metadata": {},
   "source": [
    "We are going to write a `wrangle` function that takes the name of a CSV file as input and returns a DataFrame. The function should do the following steps:\n",
    "\n",
    "1. Subset the data in the CSV file and return only apartments in Mexico City (`\"Distrito Federal\"`) that cost less than \\$100,000.\n",
    "2. Remove outliers by trimming the bottom and top 10\\% of properties in terms of `\"surface_covered_in_m2\"`.\n",
    "3. Create separate `\"lat\"` and `\"lon\"` columns.\n",
    "4. Mexico City is divided into [16 boroughs](https://en.wikipedia.org/wiki/Boroughs_of_Mexico_City). Create a `\"borough\"` feature from the `\"place_with_parent_names\"` column.\n",
    "5. Drop columns that are more than 50\\% null values.\n",
    "6. Drop columns containing low- or high-cardinality categorical values. \n",
    "7. Drop any columns that would constitute leakage for the target `\"price_aprox_usd\"`.\n",
    "8. Drop any columns that would create issues of multicollinearity. "
   ]
  },
  {
   "cell_type": "code",
   "execution_count": 17,
   "id": "7f0e51a4-d70c-404c-a12c-2f7c387343ff",
   "metadata": {
    "tags": []
   },
   "outputs": [
    {
     "data": {
      "text/html": [
       "<div>\n",
       "<style scoped>\n",
       "    .dataframe tbody tr th:only-of-type {\n",
       "        vertical-align: middle;\n",
       "    }\n",
       "\n",
       "    .dataframe tbody tr th {\n",
       "        vertical-align: top;\n",
       "    }\n",
       "\n",
       "    .dataframe thead th {\n",
       "        text-align: right;\n",
       "    }\n",
       "</style>\n",
       "<table border=\"1\" class=\"dataframe\">\n",
       "  <thead>\n",
       "    <tr style=\"text-align: right;\">\n",
       "      <th></th>\n",
       "      <th>operation</th>\n",
       "      <th>property_type</th>\n",
       "      <th>place_with_parent_names</th>\n",
       "      <th>lat-lon</th>\n",
       "      <th>price</th>\n",
       "      <th>currency</th>\n",
       "      <th>price_aprox_local_currency</th>\n",
       "      <th>price_aprox_usd</th>\n",
       "      <th>surface_total_in_m2</th>\n",
       "      <th>surface_covered_in_m2</th>\n",
       "      <th>price_usd_per_m2</th>\n",
       "      <th>price_per_m2</th>\n",
       "      <th>floor</th>\n",
       "      <th>rooms</th>\n",
       "      <th>expenses</th>\n",
       "      <th>properati_url</th>\n",
       "    </tr>\n",
       "  </thead>\n",
       "  <tbody>\n",
       "    <tr>\n",
       "      <th>0</th>\n",
       "      <td>sell</td>\n",
       "      <td>apartment</td>\n",
       "      <td>|Miguel Hidalgo|Distrito Federal|México|</td>\n",
       "      <td>23.634501,-102.552788</td>\n",
       "      <td>5500000.0</td>\n",
       "      <td>MXN</td>\n",
       "      <td>5450245.50</td>\n",
       "      <td>289775.66</td>\n",
       "      <td>NaN</td>\n",
       "      <td>54.0</td>\n",
       "      <td>NaN</td>\n",
       "      <td>101851.851852</td>\n",
       "      <td>NaN</td>\n",
       "      <td>NaN</td>\n",
       "      <td>NaN</td>\n",
       "      <td>http://miguel-hidalgo-df.properati.com.mx/o3zb...</td>\n",
       "    </tr>\n",
       "    <tr>\n",
       "      <th>1</th>\n",
       "      <td>sell</td>\n",
       "      <td>house</td>\n",
       "      <td>|Iztapalapa|Distrito Federal|México|</td>\n",
       "      <td>19.31033,-99.068557</td>\n",
       "      <td>1512000.0</td>\n",
       "      <td>MXN</td>\n",
       "      <td>1498321.97</td>\n",
       "      <td>79661.96</td>\n",
       "      <td>NaN</td>\n",
       "      <td>80.0</td>\n",
       "      <td>NaN</td>\n",
       "      <td>18900.000000</td>\n",
       "      <td>NaN</td>\n",
       "      <td>NaN</td>\n",
       "      <td>NaN</td>\n",
       "      <td>http://iztapalapa.properati.com.mx/q7t0_venta_...</td>\n",
       "    </tr>\n",
       "    <tr>\n",
       "      <th>2</th>\n",
       "      <td>sell</td>\n",
       "      <td>apartment</td>\n",
       "      <td>|Tlalpan|Distrito Federal|México|</td>\n",
       "      <td>19.279771,-99.234597</td>\n",
       "      <td>926667.0</td>\n",
       "      <td>MXN</td>\n",
       "      <td>918284.00</td>\n",
       "      <td>48822.82</td>\n",
       "      <td>NaN</td>\n",
       "      <td>100.0</td>\n",
       "      <td>NaN</td>\n",
       "      <td>9266.670000</td>\n",
       "      <td>NaN</td>\n",
       "      <td>NaN</td>\n",
       "      <td>NaN</td>\n",
       "      <td>http://tlalpan.properati.com.mx/qbi4_venta_dep...</td>\n",
       "    </tr>\n",
       "    <tr>\n",
       "      <th>3</th>\n",
       "      <td>sell</td>\n",
       "      <td>apartment</td>\n",
       "      <td>|Miguel Hidalgo|Distrito Federal|México|</td>\n",
       "      <td>23.634501,-102.552788</td>\n",
       "      <td>6410000.0</td>\n",
       "      <td>MXN</td>\n",
       "      <td>6352013.39</td>\n",
       "      <td>337720.36</td>\n",
       "      <td>NaN</td>\n",
       "      <td>135.0</td>\n",
       "      <td>NaN</td>\n",
       "      <td>47481.481481</td>\n",
       "      <td>NaN</td>\n",
       "      <td>NaN</td>\n",
       "      <td>NaN</td>\n",
       "      <td>http://miguel-hidalgo-df.properati.com.mx/opeq...</td>\n",
       "    </tr>\n",
       "    <tr>\n",
       "      <th>4</th>\n",
       "      <td>sell</td>\n",
       "      <td>apartment</td>\n",
       "      <td>|Benito Juárez|Quintana Roo|México|</td>\n",
       "      <td>21.1902642,-86.8198375</td>\n",
       "      <td>875000.0</td>\n",
       "      <td>USD</td>\n",
       "      <td>16457437.50</td>\n",
       "      <td>875000.00</td>\n",
       "      <td>0.0</td>\n",
       "      <td>263.0</td>\n",
       "      <td>NaN</td>\n",
       "      <td>3326.996198</td>\n",
       "      <td>NaN</td>\n",
       "      <td>NaN</td>\n",
       "      <td>NaN</td>\n",
       "      <td>http://cancun.properati.com.mx/hg4t_venta_depa...</td>\n",
       "    </tr>\n",
       "  </tbody>\n",
       "</table>\n",
       "</div>"
      ],
      "text/plain": [
       "  operation property_type                   place_with_parent_names  \\\n",
       "0      sell     apartment  |Miguel Hidalgo|Distrito Federal|México|   \n",
       "1      sell         house      |Iztapalapa|Distrito Federal|México|   \n",
       "2      sell     apartment         |Tlalpan|Distrito Federal|México|   \n",
       "3      sell     apartment  |Miguel Hidalgo|Distrito Federal|México|   \n",
       "4      sell     apartment       |Benito Juárez|Quintana Roo|México|   \n",
       "\n",
       "                  lat-lon      price currency  price_aprox_local_currency  \\\n",
       "0   23.634501,-102.552788  5500000.0      MXN                  5450245.50   \n",
       "1     19.31033,-99.068557  1512000.0      MXN                  1498321.97   \n",
       "2    19.279771,-99.234597   926667.0      MXN                   918284.00   \n",
       "3   23.634501,-102.552788  6410000.0      MXN                  6352013.39   \n",
       "4  21.1902642,-86.8198375   875000.0      USD                 16457437.50   \n",
       "\n",
       "   price_aprox_usd  surface_total_in_m2  surface_covered_in_m2  \\\n",
       "0        289775.66                  NaN                   54.0   \n",
       "1         79661.96                  NaN                   80.0   \n",
       "2         48822.82                  NaN                  100.0   \n",
       "3        337720.36                  NaN                  135.0   \n",
       "4        875000.00                  0.0                  263.0   \n",
       "\n",
       "   price_usd_per_m2   price_per_m2  floor  rooms  expenses  \\\n",
       "0               NaN  101851.851852    NaN    NaN       NaN   \n",
       "1               NaN   18900.000000    NaN    NaN       NaN   \n",
       "2               NaN    9266.670000    NaN    NaN       NaN   \n",
       "3               NaN   47481.481481    NaN    NaN       NaN   \n",
       "4               NaN    3326.996198    NaN    NaN       NaN   \n",
       "\n",
       "                                       properati_url  \n",
       "0  http://miguel-hidalgo-df.properati.com.mx/o3zb...  \n",
       "1  http://iztapalapa.properati.com.mx/q7t0_venta_...  \n",
       "2  http://tlalpan.properati.com.mx/qbi4_venta_dep...  \n",
       "3  http://miguel-hidalgo-df.properati.com.mx/opeq...  \n",
       "4  http://cancun.properati.com.mx/hg4t_venta_depa...  "
      ]
     },
     "execution_count": 17,
     "metadata": {},
     "output_type": "execute_result"
    }
   ],
   "source": [
    "df = pd.read_csv(\"data/mexico-city-real-estate-1.csv\")\n",
    "#df = df[ ] \n",
    "df.head()"
   ]
  },
  {
   "cell_type": "code",
   "execution_count": 18,
   "id": "c82a0e18-d879-49c7-9ebc-ae4c329c4d86",
   "metadata": {
    "tags": []
   },
   "outputs": [],
   "source": [
    "# mask_price = df['price_aprox_usd'] < 100000\n",
    "# mask_apt = df[\"place_with_parent_names\"].str.contains(\"Distrito Federal\")\n",
    "# mask_apt.unique()\n",
    "\n",
    "# df[[\"lat\", \"lon\"]] = df[\"lat-lon\"].str.split(\",-\", expand = True).astype(float)\n",
    "# df[[\"lat\", \"lon\"]]\n",
    "\n",
    "# df[\"borough\"] = df[\"place_with_parent_names\"].str.split(\"|\", expand = True)[1]\n",
    "# df[\"borough\n",
    "#df.columns.value_counts()\n",
    "#df.isnull().sum() / len(df)\n",
    "# df.drop(columns = [\"floor\", \"expenses\", \"rooms\", \"surface_total_in_m2\", \"price_usd_per_m2\"], inplace = True)\n",
    "\n",
    "#df.select_dtypes(\"object\").nunique()\n",
    "# corr = df.select_dtypes(\"number\").drop(columns = \"price_aprox_usd\").corr()\n",
    "# sns.heatmap(corr)\n",
    "\n"
   ]
  },
  {
   "cell_type": "code",
   "execution_count": 19,
   "id": "1281a99b-8791-4efe-80cf-46e64714ad4e",
   "metadata": {
    "deletable": false
   },
   "outputs": [],
   "source": [
    "# Build your `wrangle` function\n",
    "def wrangle(filepath):\n",
    "    df = pd.read_csv(filepath)\n",
    "    \n",
    "    #mask price and district\n",
    "    mask_price = df['price_aprox_usd'] < 100000\n",
    "    mask_apt = df[\"place_with_parent_names\"].str.contains(\"Distrito Federal\")\n",
    "    mask_ppt = df[\"property_type\"] == \"apartment\"\n",
    "    \n",
    "    df = df[mask_price & mask_apt & mask_ppt]\n",
    "    \n",
    "    # Subset data: Remove outliers for \"surface_covered_in_m2\"\n",
    "    low, high = df[\"surface_covered_in_m2\"].quantile([0.1, 0.9])\n",
    "    mask_area = df[\"surface_covered_in_m2\"].between(low, high)\n",
    "    df = df[mask_area]\n",
    "    \n",
    "    #lat and lon\n",
    "    df[[\"lat\", \"lon\"]] = df[\"lat-lon\"].str.split(\",\", expand = True).astype(float)\n",
    "    df.drop(columns=\"lat-lon\", inplace=True)\n",
    "    \n",
    "    #boroughs\n",
    "    df[\"borough\"] = df[\"place_with_parent_names\"].str.split(\"|\", expand = True)[1]\n",
    "    df.drop(columns=\"place_with_parent_names\", inplace=True)\n",
    "    \n",
    "    #Drop over 50% null\n",
    "    df.drop(columns = [\"floor\", \"expenses\", \"rooms\", \"surface_total_in_m2\", \"price\", \"price_usd_per_m2\"], inplace = True)\n",
    "    \n",
    "    #Low and High cardinality chop off\n",
    "    df.drop(columns = [\"operation\", \"currency\", \"properati_url\", \"property_type\"], inplace = True)\n",
    "    \n",
    "    #drop leaky features\n",
    "    df.drop(columns = [\"price_aprox_local_currency\", \"price_per_m2\"], inplace = True)\n",
    "    \n",
    "     #corr = df.select_dtypes(\"number\").drop(columns = \"price_aprox_usd\").corr()\n",
    "     #sns.heatmap(corr)\n",
    "    \n",
    "    \n",
    "    return df\n"
   ]
  },
  {
   "cell_type": "code",
   "execution_count": 20,
   "id": "8044a795-d645-452e-92f0-d5904204e6c8",
   "metadata": {
    "tags": []
   },
   "outputs": [
    {
     "data": {
      "text/html": [
       "<div>\n",
       "<style scoped>\n",
       "    .dataframe tbody tr th:only-of-type {\n",
       "        vertical-align: middle;\n",
       "    }\n",
       "\n",
       "    .dataframe tbody tr th {\n",
       "        vertical-align: top;\n",
       "    }\n",
       "\n",
       "    .dataframe thead th {\n",
       "        text-align: right;\n",
       "    }\n",
       "</style>\n",
       "<table border=\"1\" class=\"dataframe\">\n",
       "  <thead>\n",
       "    <tr style=\"text-align: right;\">\n",
       "      <th></th>\n",
       "      <th>price_aprox_usd</th>\n",
       "      <th>surface_covered_in_m2</th>\n",
       "      <th>lat</th>\n",
       "      <th>lon</th>\n",
       "      <th>borough</th>\n",
       "    </tr>\n",
       "  </thead>\n",
       "  <tbody>\n",
       "    <tr>\n",
       "      <th>11</th>\n",
       "      <td>94022.66</td>\n",
       "      <td>57.0</td>\n",
       "      <td>23.634501</td>\n",
       "      <td>-102.552788</td>\n",
       "      <td>Benito Juárez</td>\n",
       "    </tr>\n",
       "    <tr>\n",
       "      <th>20</th>\n",
       "      <td>70880.12</td>\n",
       "      <td>56.0</td>\n",
       "      <td>19.402413</td>\n",
       "      <td>-99.095391</td>\n",
       "      <td>Iztacalco</td>\n",
       "    </tr>\n",
       "    <tr>\n",
       "      <th>21</th>\n",
       "      <td>68228.99</td>\n",
       "      <td>80.0</td>\n",
       "      <td>19.357820</td>\n",
       "      <td>-99.149406</td>\n",
       "      <td>Benito Juárez</td>\n",
       "    </tr>\n",
       "    <tr>\n",
       "      <th>22</th>\n",
       "      <td>24235.78</td>\n",
       "      <td>60.0</td>\n",
       "      <td>19.504985</td>\n",
       "      <td>-99.208557</td>\n",
       "      <td>Azcapotzalco</td>\n",
       "    </tr>\n",
       "    <tr>\n",
       "      <th>26</th>\n",
       "      <td>94140.20</td>\n",
       "      <td>50.0</td>\n",
       "      <td>19.354219</td>\n",
       "      <td>-99.126244</td>\n",
       "      <td>Coyoacán</td>\n",
       "    </tr>\n",
       "  </tbody>\n",
       "</table>\n",
       "</div>"
      ],
      "text/plain": [
       "    price_aprox_usd  surface_covered_in_m2        lat         lon  \\\n",
       "11         94022.66                   57.0  23.634501 -102.552788   \n",
       "20         70880.12                   56.0  19.402413  -99.095391   \n",
       "21         68228.99                   80.0  19.357820  -99.149406   \n",
       "22         24235.78                   60.0  19.504985  -99.208557   \n",
       "26         94140.20                   50.0  19.354219  -99.126244   \n",
       "\n",
       "          borough  \n",
       "11  Benito Juárez  \n",
       "20      Iztacalco  \n",
       "21  Benito Juárez  \n",
       "22   Azcapotzalco  \n",
       "26       Coyoacán  "
      ]
     },
     "execution_count": 20,
     "metadata": {},
     "output_type": "execute_result"
    }
   ],
   "source": [
    "tf = wrangle(\"data/mexico-city-real-estate-1.csv\")\n",
    "tf.head()"
   ]
  },
  {
   "cell_type": "code",
   "execution_count": 21,
   "id": "345d00ac-9305-493b-8bbd-57aa9761f7ac",
   "metadata": {
    "deletable": false,
    "tags": []
   },
   "outputs": [],
   "source": [
    "# Use this cell to test your wrangle function and explore the data\n"
   ]
  },
  {
   "cell_type": "markdown",
   "id": "f47ef1c8-b073-47a1-beba-028cd71500a6",
   "metadata": {},
   "source": [
    "Let's use glob to create the list `files`. It should contain the filenames of all the Mexico City real estate CSVs in the `./data` directory, except for `mexico-city-test-features.csv`."
   ]
  },
  {
   "cell_type": "code",
   "execution_count": 22,
   "id": "db087948-57b5-4feb-931c-a51830b96b03",
   "metadata": {
    "deletable": false
   },
   "outputs": [
    {
     "data": {
      "text/plain": [
       "['data\\\\mexico-city-real-estate-1.csv']"
      ]
     },
     "execution_count": 22,
     "metadata": {},
     "output_type": "execute_result"
    }
   ],
   "source": [
    "files = glob(\"data/mexico-city-real-estate-*.csv\")\n",
    "files"
   ]
  },
  {
   "cell_type": "markdown",
   "id": "5ddea2e2-0b77-4115-9659-90508261c8f7",
   "metadata": {},
   "source": [
    "Combine your `wrangle` function, a list comprehension, and `pd.concat` to create a DataFrame `df`. It should contain all the properties from the five CSVs in `files`. "
   ]
  },
  {
   "cell_type": "code",
   "execution_count": 23,
   "id": "a4cbe7ee-ab23-4337-9a93-03303bc7f91e",
   "metadata": {
    "deletable": false
   },
   "outputs": [
    {
     "name": "stdout",
     "output_type": "stream",
     "text": [
      "<class 'pandas.core.frame.DataFrame'>\n",
      "Int64Index: 1101 entries, 11 to 4605\n",
      "Data columns (total 5 columns):\n",
      " #   Column                 Non-Null Count  Dtype  \n",
      "---  ------                 --------------  -----  \n",
      " 0   price_aprox_usd        1101 non-null   float64\n",
      " 1   surface_covered_in_m2  1101 non-null   float64\n",
      " 2   lat                    1041 non-null   float64\n",
      " 3   lon                    1041 non-null   float64\n",
      " 4   borough                1101 non-null   object \n",
      "dtypes: float64(4), object(1)\n",
      "memory usage: 47.3+ KB\n",
      "None\n"
     ]
    },
    {
     "data": {
      "text/html": [
       "<div>\n",
       "<style scoped>\n",
       "    .dataframe tbody tr th:only-of-type {\n",
       "        vertical-align: middle;\n",
       "    }\n",
       "\n",
       "    .dataframe tbody tr th {\n",
       "        vertical-align: top;\n",
       "    }\n",
       "\n",
       "    .dataframe thead th {\n",
       "        text-align: right;\n",
       "    }\n",
       "</style>\n",
       "<table border=\"1\" class=\"dataframe\">\n",
       "  <thead>\n",
       "    <tr style=\"text-align: right;\">\n",
       "      <th></th>\n",
       "      <th>price_aprox_usd</th>\n",
       "      <th>surface_covered_in_m2</th>\n",
       "      <th>lat</th>\n",
       "      <th>lon</th>\n",
       "      <th>borough</th>\n",
       "    </tr>\n",
       "  </thead>\n",
       "  <tbody>\n",
       "    <tr>\n",
       "      <th>11</th>\n",
       "      <td>94022.66</td>\n",
       "      <td>57.0</td>\n",
       "      <td>23.634501</td>\n",
       "      <td>-102.552788</td>\n",
       "      <td>Benito Juárez</td>\n",
       "    </tr>\n",
       "    <tr>\n",
       "      <th>20</th>\n",
       "      <td>70880.12</td>\n",
       "      <td>56.0</td>\n",
       "      <td>19.402413</td>\n",
       "      <td>-99.095391</td>\n",
       "      <td>Iztacalco</td>\n",
       "    </tr>\n",
       "    <tr>\n",
       "      <th>21</th>\n",
       "      <td>68228.99</td>\n",
       "      <td>80.0</td>\n",
       "      <td>19.357820</td>\n",
       "      <td>-99.149406</td>\n",
       "      <td>Benito Juárez</td>\n",
       "    </tr>\n",
       "    <tr>\n",
       "      <th>22</th>\n",
       "      <td>24235.78</td>\n",
       "      <td>60.0</td>\n",
       "      <td>19.504985</td>\n",
       "      <td>-99.208557</td>\n",
       "      <td>Azcapotzalco</td>\n",
       "    </tr>\n",
       "    <tr>\n",
       "      <th>26</th>\n",
       "      <td>94140.20</td>\n",
       "      <td>50.0</td>\n",
       "      <td>19.354219</td>\n",
       "      <td>-99.126244</td>\n",
       "      <td>Coyoacán</td>\n",
       "    </tr>\n",
       "  </tbody>\n",
       "</table>\n",
       "</div>"
      ],
      "text/plain": [
       "    price_aprox_usd  surface_covered_in_m2        lat         lon  \\\n",
       "11         94022.66                   57.0  23.634501 -102.552788   \n",
       "20         70880.12                   56.0  19.402413  -99.095391   \n",
       "21         68228.99                   80.0  19.357820  -99.149406   \n",
       "22         24235.78                   60.0  19.504985  -99.208557   \n",
       "26         94140.20                   50.0  19.354219  -99.126244   \n",
       "\n",
       "          borough  \n",
       "11  Benito Juárez  \n",
       "20      Iztacalco  \n",
       "21  Benito Juárez  \n",
       "22   Azcapotzalco  \n",
       "26       Coyoacán  "
      ]
     },
     "execution_count": 23,
     "metadata": {},
     "output_type": "execute_result"
    }
   ],
   "source": [
    "frames = [wrangle(file) for file in files]\n",
    "df = pd.concat(frames)\n",
    "print(df.info())\n",
    "df.head()"
   ]
  },
  {
   "cell_type": "markdown",
   "id": "de2683ec-8324-4f60-b4ec-fcb316770512",
   "metadata": {
    "deletable": false,
    "editable": false
   },
   "source": [
    "## Explore"
   ]
  },
  {
   "cell_type": "markdown",
   "id": "c49a4444-adb3-4193-b8d8-db7596c441e1",
   "metadata": {},
   "source": [
    "Let's create a histogram showing the distribution of apartment prices (`\"price_aprox_usd\"`) in `df`. Be sure to label the x-axis `\"Area [sq meters]\"`, the y-axis `\"Count\"`, and give it the title `\"Distribution of Apartment Prices\"`.\n",
    "\n",
    "What does the distribution of price look like? Is the data normal, a little skewed, or very skewed?"
   ]
  },
  {
   "cell_type": "code",
   "execution_count": 24,
   "id": "7d1f709c-fb6d-402c-9745-d9bbceae87c0",
   "metadata": {
    "deletable": false
   },
   "outputs": [
    {
     "data": {
      "image/png": "[encoded data removed]",
      "text/plain": [
       "<Figure size 432x288 with 1 Axes>"
      ]
     },
     "metadata": {
      "needs_background": "light"
     },
     "output_type": "display_data"
    }
   ],
   "source": [
    "# Plot distribution of price\n",
    "plt.hist(df[\"price_aprox_usd\"])\n",
    "plt.xlabel(\"Area [sq meters]\")\n",
    "plt.ylabel(\"Count\")\n",
    "plt.title(\"Distribution of Apartment Prices\");"
   ]
  },
  {
   "cell_type": "markdown",
   "id": "3e4f18dc-04f3-451a-a772-0d605fb1b5a2",
   "metadata": {},
   "source": [
    "Let's create a scatter plot that shows apartment price (`\"price_aprox_usd\"`) as a function of apartment size (`\"surface_covered_in_m2\"`). Be sure to label your axes `\"Price [USD]\"` and `\"Area [sq meters]\"`, respectively. Your plot should have the title `\"Mexico City: Price vs. Area\"`.\n",
    "\n",
    "Do you see a relationship between price and area in the data? How is this similar to or different from the Buenos Aires dataset?"
   ]
  },
  {
   "cell_type": "code",
   "execution_count": 26,
   "id": "8f430f25-1a7e-435b-b5bf-2bf8427eefdd",
   "metadata": {
    "deletable": false
   },
   "outputs": [
    {
     "data": {
      "image/png": "[encoded data removed]",
      "text/plain": [
       "<Figure size 432x288 with 1 Axes>"
      ]
     },
     "metadata": {
      "needs_background": "light"
     },
     "output_type": "display_data"
    }
   ],
   "source": [
    "# Plot price vs area\n",
    "\n",
    "plt.scatter(x = df[\"surface_covered_in_m2\"], y = df[\"price_aprox_usd\"])\n",
    "plt.xlabel(\"Area [sq meters]\")\n",
    "plt.ylabel(\"Price [USD]\")\n",
    "plt.title(\"Mexico City: Price vs. Area\");"
   ]
  },
  {
   "cell_type": "markdown",
   "id": "095bc111-55a9-40c2-b322-4ab50c617750",
   "metadata": {},
   "source": [
    "Let's create a Mapbox scatter plot that shows the location of the apartments in your dataset and represent their price using color. \n",
    "\n",
    "What areas of the city seem to have higher real estate prices?"
   ]
  },
  {
   "cell_type": "code",
   "execution_count": null,
   "id": "d07fc514-897c-4399-87e1-97c930bf8a66",
   "metadata": {
    "deletable": false
   },
   "outputs": [],
   "source": [
    "# Plot Mapbox location and price\n",
    "fig = px.scatter_mapbox(\n",
    "    df,  # Our DataFrame\n",
    "    lat='lat',\n",
    "    lon='lon',\n",
    "    width=600,  # Width of map\n",
    "    height=600,  # Height of map\n",
    "    color='price_aprox_usd',\n",
    "    hover_data=[\"price_aprox_usd\"],  # Display price when hovering mouse over house\n",
    ")\n",
    "\n",
    "fig.update_layout(mapbox_style=\"open-street-map\")\n",
    "\n",
    "fig.show()"
   ]
  },
  {
   "cell_type": "markdown",
   "id": "1d9f5ee7-348c-407b-a8ce-b4a79f7a0cc4",
   "metadata": {
    "deletable": false,
    "editable": false
   },
   "source": [
    "## Split"
   ]
  },
  {
   "cell_type": "markdown",
   "id": "f943c3ec-c299-4941-996c-4ea4a21a14f5",
   "metadata": {},
   "source": [
    "Let's create your feature matrix `X_train` and target vector `y_train`. Your target is `\"price_aprox_usd\"`. Your features should be all the columns that remain in the DataFrame you cleaned above."
   ]
  },
  {
   "cell_type": "code",
   "execution_count": null,
   "id": "33220dec-e1b0-46cd-88b4-3e69a18e3c53",
   "metadata": {},
   "outputs": [],
   "source": [
    "df.head()"
   ]
  },
  {
   "cell_type": "code",
   "execution_count": null,
   "id": "eac77c6c-b0e3-4d84-af72-f75270c11187",
   "metadata": {
    "deletable": false
   },
   "outputs": [],
   "source": [
    "# Split data into feature matrix `X_train` and target vector `y_train`.\n",
    "features = [\"surface_covered_in_m2\", \"lat\", \"lon\", \"borough\"]\n",
    "target = \"price_aprox_usd\"\n",
    "X_train = df[features]\n",
    "y_train = df[target]"
   ]
  },
  {
   "cell_type": "markdown",
   "id": "df817f6c-ca21-49d0-be84-7af163041ca5",
   "metadata": {
    "deletable": false,
    "editable": false
   },
   "source": [
    "# Build Model"
   ]
  },
  {
   "cell_type": "markdown",
   "id": "2ddaad75-ef9c-49c0-a963-4348483e7201",
   "metadata": {
    "deletable": false,
    "editable": false
   },
   "source": [
    "## Baseline"
   ]
  },
  {
   "cell_type": "markdown",
   "id": "6cdda106-0d7a-426d-aa9d-94ed60702c32",
   "metadata": {},
   "source": [
    "Calculate the baseline mean absolute error for your model."
   ]
  },
  {
   "cell_type": "code",
   "execution_count": null,
   "id": "3a998470-7558-4c2a-8681-ea76d9b2ae16",
   "metadata": {
    "deletable": false
   },
   "outputs": [],
   "source": [
    "y_mean = y_train.mean()\n",
    "y_pred_baseline = [y_mean] * len(y_train)\n",
    "baseline_mae = mean_absolute_error(y_train, y_pred_baseline)\n",
    "print(\"Mean apt price:\", y_mean)\n",
    "print(\"Baseline MAE:\", baseline_mae)"
   ]
  },
  {
   "cell_type": "markdown",
   "id": "0b5e8c7d-dbd3-4405-a048-475a0150578b",
   "metadata": {
    "deletable": false,
    "editable": false
   },
   "source": [
    "## Iterate"
   ]
  },
  {
   "cell_type": "markdown",
   "id": "d43cc258-e24e-4231-8638-7b80df4636dc",
   "metadata": {},
   "source": [
    "Create a pipeline named `model` that contains all the transformers necessary for this dataset and one of the predictors you've used during this project. Then fit your model to the training data."
   ]
  },
  {
   "cell_type": "code",
   "execution_count": null,
   "id": "a2055448-7694-42a3-94ed-051a5c7b45fd",
   "metadata": {
    "deletable": false
   },
   "outputs": [],
   "source": [
    "# Build Model\n",
    "model = make_pipeline(\n",
    "    OneHotEncoder(use_cat_names=True),\n",
    "    SimpleImputer(),\n",
    "    Ridge()\n",
    ")\n",
    "# Fit model\n",
    "model.fit(X_train, y_train)"
   ]
  },
  {
   "cell_type": "markdown",
   "id": "432b2c22-9c54-4326-84a7-0f34d99ff193",
   "metadata": {
    "deletable": false,
    "editable": false
   },
   "source": [
    "## Evaluate"
   ]
  },
  {
   "cell_type": "markdown",
   "id": "157be0ad-80c4-4b2a-9b44-60ffd2dd9c84",
   "metadata": {},
   "source": [
    "Read the CSV file `mexico-city-test-features.csv` into the DataFrame `X_test`."
   ]
  },
  {
   "cell_type": "code",
   "execution_count": null,
   "id": "9fcb2d73-9c22-4e0c-b6d0-02318981c3d0",
   "metadata": {
    "deletable": false
   },
   "outputs": [],
   "source": [
    "X_test = pd.read_csv(\"data/mexico-city-test-features.csv\")\n",
    "print(X_test.info())\n",
    "X_test.head()"
   ]
  },
  {
   "cell_type": "markdown",
   "id": "a7dfeb49-87ba-4eac-9502-b2851a8f3da9",
   "metadata": {},
   "source": [
    "Use the model to generate a Series of predictions for `X_test`."
   ]
  },
  {
   "cell_type": "code",
   "execution_count": null,
   "id": "ff1f3096-cab7-4ef6-8f18-d64fe5fc6a6f",
   "metadata": {
    "deletable": false
   },
   "outputs": [],
   "source": [
    "y_test_pred = pd.Series(model.predict(X_test))\n",
    "y_test_pred.head()"
   ]
  },
  {
   "cell_type": "markdown",
   "id": "61a510f1-d69d-40ba-838d-208d1cda2275",
   "metadata": {
    "deletable": false,
    "editable": false
   },
   "source": [
    "# Communicate Results"
   ]
  },
  {
   "cell_type": "markdown",
   "id": "087e1df2-8025-4f95-b3b0-3071ff4aebd3",
   "metadata": {},
   "source": [
    "Create a Series named `feat_imp`. The index should contain the names of all the features your model considers when making predictions; the values should be the coefficient values associated with each feature. The Series should be sorted ascending by absolute value.  "
   ]
  },
  {
   "cell_type": "code",
   "execution_count": null,
   "id": "8c52a764-6041-4765-bf99-5c330d567e5e",
   "metadata": {
    "deletable": false,
    "jupyter": {
     "outputs_hidden": true
    },
    "tags": []
   },
   "outputs": [],
   "source": [
    "coefficients = model.named_steps['ridge'].coef_\n",
    "features = model.named_steps['onehotencoder'].get_feature_names()\n",
    "feat_imp = pd.Series(coefficients, index = features)\n",
    "feat_imp"
   ]
  },
  {
   "cell_type": "markdown",
   "id": "34eab663-5a3d-4e33-afef-7871c8023c21",
   "metadata": {},
   "source": [
    "Create a horizontal bar chart that shows the **10 most influential** coefficients for your model. Be sure to label your x- and y-axis `\"Importance [USD]\"` and `\"Feature\"`, respectively, and give your chart the title `\"Feature Importances for Apartment Price\"`."
   ]
  }
 ],
 "metadata": {
  "kernelspec": {
   "display_name": "Python 3",
   "language": "python",
   "name": "python3"
  },
  "language_info": {
   "codemirror_mode": {
    "name": "ipython",
    "version": 3
   },
   "file_extension": ".py",
   "mimetype": "text/x-python",
   "name": "python",
   "nbconvert_exporter": "python",
   "pygments_lexer": "ipython3",
   "version": "3.7.13"
  }
 },
 "nbformat": 4,
 "nbformat_minor": 5
}
